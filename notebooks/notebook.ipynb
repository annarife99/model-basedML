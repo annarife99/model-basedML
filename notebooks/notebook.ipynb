{
 "cells": [
  {
   "cell_type": "code",
   "execution_count": 1,
   "metadata": {},
   "outputs": [],
   "source": [
    "import os\n",
    "from time import sleep\n",
    "\n",
    "import pandas as pd\n",
    "import numpy as np\n",
    "import requests\n",
    "from bs4 import BeautifulSoup as soup \n",
    "import holidays"
   ]
  },
  {
   "attachments": {},
   "cell_type": "markdown",
   "metadata": {},
   "source": [
    "### 0. Load Bike Sharing Data"
   ]
  },
  {
   "attachments": {},
   "cell_type": "markdown",
   "metadata": {},
   "source": [
    "**Origin of the Dataset**\n",
    "\n",
    "The dataset used in this analysis is sourced from **Capital Bikeshare**, a bike-sharing service operating in the Washington, D.C. metropolitan area. The data includes information from the years 2010 to 2017 and provides valuable insights into bike-sharing usage patterns, trip durations, and other related factors.\n",
    "\n",
    "**Description of Columns**\n",
    "\n",
    "The dataset contains several columns that provide specific information about bike-sharing trips and related factors. Here's a description of some commonly found columns in the dataset:\n",
    "\n",
    "- `Start Time`: The date and time when the trip started.\n",
    "- `End Time`: The date and time when the trip ended.\n",
    "- `Start Station ID`: The unique identifier of the station where the trip originated.\n",
    "- `End Station ID`: The unique identifier of the station where the trip ended.\n",
    "- `Start Station Name`: The name or label of the station where the trip originated.\n",
    "- `End Station Name`: The name or label of the station where the trip ended.\n",
    "- `Bike ID`: The unique identifier of the bike used for the trip.\n",
    "- `Member Type`: Indicates whether the user was a registered member or a casual/non-member.\n",
    "\n",
    "We will merge the datasets from the years 2010 to 2017 and compress the information into 4 columns of interest:\n",
    "- `Date`: Date when the rental was initiated.\n",
    "- `Hour`: Hour of the day (1-23) when the rental was initiated.\n",
    "- `Member counts`: Number of rentals done by registered users.\n",
    "- `Casual counts`: Number of rentals done by non-registered users.\n",
    "- `Total`: Sum of member and casual counts."
   ]
  },
  {
   "cell_type": "code",
   "execution_count": 3,
   "metadata": {},
   "outputs": [],
   "source": [
    "data_path = os.path.join(os.pardir,'data', 'raw', 'bikesharing')\n",
    "data_files = [file for file in os.listdir(data_path) if file.endswith('.csv')]"
   ]
  },
  {
   "cell_type": "code",
   "execution_count": 4,
   "metadata": {},
   "outputs": [
    {
     "name": "stdout",
     "output_type": "stream",
     "text": [
      "2016Q2-capitalbikeshare-tripdata.csv\n",
      "2013Q2-capitalbikeshare-tripdata.csv\n",
      "2015Q4-capitalbikeshare-tripdata.csv\n",
      "2012Q1-capitalbikeshare-tripdata.csv\n",
      "2017Q1-capitalbikeshare-tripdata.csv\n",
      "2015Q3-capitalbikeshare-tripdata.csv\n",
      "2013Q3-capitalbikeshare-tripdata.csv\n",
      "2014Q1-capitalbikeshare-tripdata.csv\n",
      "2016Q3-capitalbikeshare-tripdata.csv\n",
      "2015Q2-capitalbikeshare-tripdata.csv\n",
      "2013Q4-capitalbikeshare-tripdata.csv\n",
      "2016Q4-capitalbikeshare-tripdata.csv\n",
      "2017Q3-capitalbikeshare-tripdata.csv\n",
      "2015Q1-capitalbikeshare-tripdata.csv\n",
      "2010-capitalbikeshare-tripdata.csv\n",
      "2012Q3-capitalbikeshare-tripdata.csv\n",
      "2017Q4-capitalbikeshare-tripdata.csv\n",
      "2012Q4-capitalbikeshare-tripdata.csv\n",
      "2014Q2-capitalbikeshare-tripdata.csv\n",
      "2014Q4-capitalbikeshare-tripdata.csv\n",
      "2012Q2-capitalbikeshare-tripdata.csv\n",
      "2011-capitalbikeshare-tripdata.csv\n",
      "2017Q2-capitalbikeshare-tripdata.csv\n",
      "2014Q3-capitalbikeshare-tripdata.csv\n",
      "2016Q1-capitalbikeshare-tripdata.csv\n",
      "2013Q1-capitalbikeshare-tripdata.csv\n"
     ]
    }
   ],
   "source": [
    "# Initialize empty dataframe that will store bike sharing data\n",
    "bdf = pd.DataFrame(columns=['date', 'hour', 'member', 'casual', 'total'])\n",
    "\n",
    "for file in data_files:\n",
    "    \n",
    "    # Print file being imported\n",
    "    print(file)\n",
    "\n",
    "    # Read file and preprocess columns\n",
    "    df = pd.read_csv(os.path.join(data_path, file))\n",
    "    df['Start date'] = pd.to_datetime(df['Start date'], errors='coerce')    \n",
    "    df['Member type'] = df['Member type'].apply(lambda x: 'casual' if x == 'Unknown' else x.lower())\n",
    "    \n",
    "    # Group by date, hour, and member type to have hourly counts by member type\n",
    "    grouped = df.groupby([df['Start date'].dt.date.rename('date'), df['Start date'].dt.hour.rename('hour'), df['Member type'].rename('member_type')]).size().reset_index(name='count')\n",
    "    # Pivot column to get count by member type in the same row for the same date, hour\n",
    "    pivoted = pd.pivot_table(grouped, values='count', index=['date', 'hour'], columns='member_type', fill_value=0).reset_index()\n",
    "    # Compute total as the sum of counts for each member type \n",
    "    pivoted['total'] = pivoted['casual'] + pivoted['member']\n",
    "    # Concat with previously imported bike sharing data\n",
    "    bdf = pd.concat((bdf, pivoted)).sort_values(['date', 'hour'])\n",
    "\n",
    "    bdf.date = pd.to_datetime(bdf.date, errors='coerce')\n",
    "    # Save file for future use\n",
    "    bdf.to_csv(os.path.join(os.pardir,'data', 'processed', 'bikesharing.csv'), index=False)"
   ]
  },
  {
   "attachments": {},
   "cell_type": "markdown",
   "metadata": {},
   "source": [
    "### 0.1 Load weather data"
   ]
  },
  {
   "attachments": {},
   "cell_type": "markdown",
   "metadata": {},
   "source": [
    "Here we will gather weather data that can help us predict the bikesharing demand using web scrapping methods to the website freemeteo. We will collect hourly weather data, including:\n",
    "- `Temperature`\n",
    "- `Relative temperature`\n",
    "- `Windspeed`\n",
    "- `Humidity`\n",
    "- `Weather`:\n",
    "  1. Clear, Few clouds, Partly cloudy, Partly cloudy\n",
    "  2. Mist + Cloudy, Mist + Broken clouds, Mist + Few clouds, Mist\n",
    "  3. Light Snow, Light Rain + Thunderstorm + Scattered clouds, Light Rain + Scattered clouds\n",
    "  4. Heavy Rain + Ice Pallets + Thunderstorm + Mist, Snow + Fog \n",
    "- `Details`: description of weather."
   ]
  },
  {
   "cell_type": "code",
   "execution_count": 5,
   "metadata": {},
   "outputs": [],
   "source": [
    "\n",
    "def get_weather(date):\n",
    "    \"\"\"Function to webscrape one day from freemeteo.bg at Washington DC station.\n",
    "    Input: 'year-month-day' -- 2019-01-01\n",
    "    Output: pandas dataframe\n",
    "    \n",
    "    \"\"\"\n",
    "    \n",
    "    url = F\"https://freemeteo.bg/weather/washington/history/daily-history/?gid=4140963&station=19064&date={date}&language=english&country=us-united-states\"\n",
    "    res =  requests.get(url)\n",
    "    soup1 = soup(res.text, \"lxml\")\n",
    "\n",
    "    columns = ['datetime', 'temp','atemp','windir','humidity','weather', 'details']\n",
    "    df=pd.DataFrame(columns=columns)\n",
    "\n",
    "    for row in soup1.findAll(\"tr\"):\n",
    "\n",
    "        cells = row.findAll(\"td\")\n",
    "        row = []\n",
    "        if len(cells) ==10:\n",
    "\n",
    "            time = cells[0].find(text=True)\n",
    "            temp = cells[1].find(text=True)\n",
    "            atemp = cells[2].find(text=True)\n",
    "            windir = cells[3].text\n",
    "            humidity = cells[5].find(text=True)\n",
    "            weather = cells[8].span.attrs['data-icon']\n",
    "            datetime = f'{date}T{time}'\n",
    "            details = cells[9].find('span', \"details\").text\n",
    "\n",
    "            row.append([datetime,temp,atemp,windir,humidity,weather, details])\n",
    "            row = pd.DataFrame(row, columns=columns)\n",
    "            row.datetime = pd.to_datetime(row.datetime, errors='coerce')\n",
    "            row['date'] = row.datetime.dt.date\n",
    "            row['hour'] = row.datetime.dt.hour\n",
    "\n",
    "            df = df.append(row, ignore_index=True)\n",
    "    \n",
    "    df.temp = df.temp.str.replace('°C', '')\n",
    "    df.atemp = df.atemp.str.replace('°C', '')\n",
    "    df.humidity = df.humidity.str.replace('%', '')\n",
    "    pattern = r'\\b(\\d+)\\s+Km/h'\n",
    "    df['windspeed'] = df.windir.str.extract(pattern, expand=False)\n",
    "    df.windspeed = df.apply(lambda x: 0 if (pd.isnull(x.windspeed) and x.windir == 'Calm') else x.windspeed, axis=1)\n",
    "    \n",
    "    df.drop_duplicates(subset=['date', 'hour'], inplace=True)\n",
    "    \n",
    "    return df\n",
    "     "
   ]
  },
  {
   "cell_type": "code",
   "execution_count": 6,
   "metadata": {},
   "outputs": [],
   "source": [
    "wdf = pd.DataFrame(columns=['datetime', 'temp','atemp','windir','humidity','weather', 'details'])\n",
    "\n",
    "# Obtain weather data for each date in bike sharing dataframe\n",
    "for date in bdf.date.dt.strftime('%Y-%m-%d').unique():\n",
    "    wdf = pd.concat((wdf, get_weather(date=date)))\n",
    "\n",
    "wdf.date = pd.to_datetime(wdf.date)\n",
    "\n",
    "# Group weather values \n",
    "# Identified icons > 4:\n",
    "# 26 = snow\n",
    "# 10 = rays\n",
    "# 94 = fog\n",
    "wdf.weather = wdf.weather.apply(lambda x: 4 if int(x) > 4 else (x))\n",
    "\n",
    "# Save file for future use\n",
    "wdf.to_csv(os.path.join(os.pardir,'data', 'processed', 'weather.csv'), index=False)"
   ]
  },
  {
   "attachments": {},
   "cell_type": "markdown",
   "metadata": {},
   "source": [
    "### 0.3 Load public holidays data"
   ]
  },
  {
   "cell_type": "code",
   "execution_count": 7,
   "metadata": {},
   "outputs": [],
   "source": [
    "# Create a list of public holidays for Washington, D.C.\n",
    "dc_holidays = holidays.US(state='DC')\n",
    "\n",
    "# Generate a date range from 2009 to the current year\n",
    "date_range = pd.date_range(start=bdf.date.min().strftime('%Y-%m-%d'), end=bdf.date.max().strftime('%Y-%m-%d'))\n",
    "\n",
    "# Create a DataFrame with 'date' column\n",
    "hdf = pd.DataFrame({'date': date_range})\n",
    "\n",
    "# Check if each date is a public holiday or not\n",
    "hdf['public_holiday'] = hdf['date'].apply(lambda x: 1 if x in dc_holidays else 0)\n",
    "\n",
    "# Save for future use\n",
    "hdf.to_csv(os.path.join(os.pardir,'data', 'processed', 'holidays.csv'), index=False)"
   ]
  },
  {
   "attachments": {},
   "cell_type": "markdown",
   "metadata": {},
   "source": [
    "### 0.4 Merge datasets"
   ]
  },
  {
   "cell_type": "code",
   "execution_count": 8,
   "metadata": {},
   "outputs": [],
   "source": [
    "# Add weather data\n",
    "mdf = pd.merge(bdf, wdf.drop(columns=['datetime', 'windir', 'details']), on=['date', 'hour'], how='left')\n",
    "# Some hours may not have weather data related\n",
    "# We impute them with the latest weather data available\n",
    "mdf.sort_values(by=['date', 'hour'], ascending=[True, True], inplace=True)\n",
    "mdf.fillna(method='ffill', inplace=True)\n",
    "\n",
    "# Add public holiday data\n",
    "mdf = mdf.merge(hdf, on=['date'], how='left')\n",
    "\n",
    "# Save merged dataset\n",
    "mdf.to_csv(os.path.join(os.pardir,'data', 'processed', 'merged_dataset.csv'), index=False)"
   ]
  },
  {
   "attachments": {},
   "cell_type": "markdown",
   "metadata": {},
   "source": [
    "### 0.5 Load merged dataset"
   ]
  },
  {
   "cell_type": "code",
   "execution_count": 6,
   "metadata": {},
   "outputs": [
    {
     "data": {
      "text/html": [
       "<div>\n",
       "<style scoped>\n",
       "    .dataframe tbody tr th:only-of-type {\n",
       "        vertical-align: middle;\n",
       "    }\n",
       "\n",
       "    .dataframe tbody tr th {\n",
       "        vertical-align: top;\n",
       "    }\n",
       "\n",
       "    .dataframe thead th {\n",
       "        text-align: right;\n",
       "    }\n",
       "</style>\n",
       "<table border=\"1\" class=\"dataframe\">\n",
       "  <thead>\n",
       "    <tr style=\"text-align: right;\">\n",
       "      <th></th>\n",
       "      <th>date</th>\n",
       "      <th>hour</th>\n",
       "      <th>member</th>\n",
       "      <th>casual</th>\n",
       "      <th>total</th>\n",
       "      <th>temp</th>\n",
       "      <th>atemp</th>\n",
       "      <th>humidity</th>\n",
       "      <th>weather</th>\n",
       "      <th>windspeed</th>\n",
       "      <th>public_holiday</th>\n",
       "    </tr>\n",
       "  </thead>\n",
       "  <tbody>\n",
       "    <tr>\n",
       "      <th>0</th>\n",
       "      <td>2010-09-20</td>\n",
       "      <td>11</td>\n",
       "      <td>2</td>\n",
       "      <td>0</td>\n",
       "      <td>2</td>\n",
       "      <td>24</td>\n",
       "      <td>23</td>\n",
       "      <td>31</td>\n",
       "      <td>2</td>\n",
       "      <td>19</td>\n",
       "      <td>0</td>\n",
       "    </tr>\n",
       "    <tr>\n",
       "      <th>1</th>\n",
       "      <td>2010-09-20</td>\n",
       "      <td>12</td>\n",
       "      <td>17</td>\n",
       "      <td>0</td>\n",
       "      <td>17</td>\n",
       "      <td>25</td>\n",
       "      <td>24</td>\n",
       "      <td>26</td>\n",
       "      <td>1</td>\n",
       "      <td>19</td>\n",
       "      <td>0</td>\n",
       "    </tr>\n",
       "    <tr>\n",
       "      <th>2</th>\n",
       "      <td>2010-09-20</td>\n",
       "      <td>13</td>\n",
       "      <td>11</td>\n",
       "      <td>0</td>\n",
       "      <td>11</td>\n",
       "      <td>26</td>\n",
       "      <td>25</td>\n",
       "      <td>24</td>\n",
       "      <td>1</td>\n",
       "      <td>24</td>\n",
       "      <td>0</td>\n",
       "    </tr>\n",
       "    <tr>\n",
       "      <th>3</th>\n",
       "      <td>2010-09-20</td>\n",
       "      <td>14</td>\n",
       "      <td>4</td>\n",
       "      <td>2</td>\n",
       "      <td>6</td>\n",
       "      <td>27</td>\n",
       "      <td>26</td>\n",
       "      <td>20</td>\n",
       "      <td>1</td>\n",
       "      <td>17</td>\n",
       "      <td>0</td>\n",
       "    </tr>\n",
       "    <tr>\n",
       "      <th>4</th>\n",
       "      <td>2010-09-20</td>\n",
       "      <td>15</td>\n",
       "      <td>10</td>\n",
       "      <td>2</td>\n",
       "      <td>12</td>\n",
       "      <td>27</td>\n",
       "      <td>26</td>\n",
       "      <td>20</td>\n",
       "      <td>1</td>\n",
       "      <td>26</td>\n",
       "      <td>0</td>\n",
       "    </tr>\n",
       "  </tbody>\n",
       "</table>\n",
       "</div>"
      ],
      "text/plain": [
       "        date  hour  member  casual  total  temp  atemp  humidity  weather  \\\n",
       "0 2010-09-20    11       2       0      2    24     23        31        2   \n",
       "1 2010-09-20    12      17       0     17    25     24        26        1   \n",
       "2 2010-09-20    13      11       0     11    26     25        24        1   \n",
       "3 2010-09-20    14       4       2      6    27     26        20        1   \n",
       "4 2010-09-20    15      10       2     12    27     26        20        1   \n",
       "\n",
       "   windspeed  public_holiday  \n",
       "0         19               0  \n",
       "1         19               0  \n",
       "2         24               0  \n",
       "3         17               0  \n",
       "4         26               0  "
      ]
     },
     "execution_count": 6,
     "metadata": {},
     "output_type": "execute_result"
    }
   ],
   "source": [
    "mdf = pd.read_csv(os.path.join(os.pardir,'data', 'processed', 'merged_dataset.csv'))\n",
    "# Re-convert date to datetime\n",
    "mdf.date = pd.to_datetime(mdf.date)\n",
    "mdf.head()"
   ]
  },
  {
   "attachments": {},
   "cell_type": "markdown",
   "metadata": {},
   "source": [
    "### 1. Data pre-processing"
   ]
  },
  {
   "attachments": {},
   "cell_type": "markdown",
   "metadata": {},
   "source": [
    "### 1.1 Missing values"
   ]
  },
  {
   "cell_type": "code",
   "execution_count": 7,
   "metadata": {},
   "outputs": [
    {
     "name": "stdout",
     "output_type": "stream",
     "text": [
      "<class 'pandas.core.frame.DataFrame'>\n",
      "RangeIndex: 63240 entries, 0 to 63239\n",
      "Data columns (total 11 columns):\n",
      " #   Column          Non-Null Count  Dtype         \n",
      "---  ------          --------------  -----         \n",
      " 0   date            63240 non-null  datetime64[ns]\n",
      " 1   hour            63240 non-null  int64         \n",
      " 2   member          63240 non-null  int64         \n",
      " 3   casual          63240 non-null  int64         \n",
      " 4   total           63240 non-null  int64         \n",
      " 5   temp            63240 non-null  int64         \n",
      " 6   atemp           63240 non-null  int64         \n",
      " 7   humidity        63240 non-null  int64         \n",
      " 8   weather         63240 non-null  int64         \n",
      " 9   windspeed       63240 non-null  int64         \n",
      " 10  public_holiday  63240 non-null  int64         \n",
      "dtypes: datetime64[ns](1), int64(10)\n",
      "memory usage: 5.3 MB\n"
     ]
    }
   ],
   "source": [
    "mdf.info()"
   ]
  },
  {
   "attachments": {},
   "cell_type": "markdown",
   "metadata": {},
   "source": [
    "The dataset does not contain any missing values."
   ]
  },
  {
   "attachments": {},
   "cell_type": "markdown",
   "metadata": {},
   "source": [
    "### 1.2 Outliers"
   ]
  },
  {
   "cell_type": "code",
   "execution_count": 8,
   "metadata": {},
   "outputs": [
    {
     "data": {
      "text/html": [
       "<div>\n",
       "<style scoped>\n",
       "    .dataframe tbody tr th:only-of-type {\n",
       "        vertical-align: middle;\n",
       "    }\n",
       "\n",
       "    .dataframe tbody tr th {\n",
       "        vertical-align: top;\n",
       "    }\n",
       "\n",
       "    .dataframe thead th {\n",
       "        text-align: right;\n",
       "    }\n",
       "</style>\n",
       "<table border=\"1\" class=\"dataframe\">\n",
       "  <thead>\n",
       "    <tr style=\"text-align: right;\">\n",
       "      <th></th>\n",
       "      <th>hour</th>\n",
       "      <th>member</th>\n",
       "      <th>casual</th>\n",
       "      <th>total</th>\n",
       "      <th>temp</th>\n",
       "      <th>atemp</th>\n",
       "      <th>humidity</th>\n",
       "      <th>weather</th>\n",
       "      <th>windspeed</th>\n",
       "      <th>public_holiday</th>\n",
       "    </tr>\n",
       "  </thead>\n",
       "  <tbody>\n",
       "    <tr>\n",
       "      <th>count</th>\n",
       "      <td>63240.000000</td>\n",
       "      <td>63240.000000</td>\n",
       "      <td>63240.000000</td>\n",
       "      <td>63240.000000</td>\n",
       "      <td>63240.000000</td>\n",
       "      <td>63240.000000</td>\n",
       "      <td>63240.000000</td>\n",
       "      <td>63240.000000</td>\n",
       "      <td>63240.000000</td>\n",
       "      <td>63240.000000</td>\n",
       "    </tr>\n",
       "    <tr>\n",
       "      <th>mean</th>\n",
       "      <td>11.550870</td>\n",
       "      <td>236.276281</td>\n",
       "      <td>66.026739</td>\n",
       "      <td>302.303020</td>\n",
       "      <td>15.480266</td>\n",
       "      <td>14.814643</td>\n",
       "      <td>63.078495</td>\n",
       "      <td>2.874605</td>\n",
       "      <td>13.363694</td>\n",
       "      <td>0.035848</td>\n",
       "    </tr>\n",
       "    <tr>\n",
       "      <th>std</th>\n",
       "      <td>6.913238</td>\n",
       "      <td>255.359994</td>\n",
       "      <td>102.907403</td>\n",
       "      <td>319.765133</td>\n",
       "      <td>9.810974</td>\n",
       "      <td>11.617510</td>\n",
       "      <td>19.449951</td>\n",
       "      <td>0.984836</td>\n",
       "      <td>8.103467</td>\n",
       "      <td>0.185911</td>\n",
       "    </tr>\n",
       "    <tr>\n",
       "      <th>min</th>\n",
       "      <td>0.000000</td>\n",
       "      <td>0.000000</td>\n",
       "      <td>0.000000</td>\n",
       "      <td>1.000000</td>\n",
       "      <td>-14.000000</td>\n",
       "      <td>-24.000000</td>\n",
       "      <td>7.000000</td>\n",
       "      <td>1.000000</td>\n",
       "      <td>0.000000</td>\n",
       "      <td>0.000000</td>\n",
       "    </tr>\n",
       "    <tr>\n",
       "      <th>25%</th>\n",
       "      <td>6.000000</td>\n",
       "      <td>43.000000</td>\n",
       "      <td>5.000000</td>\n",
       "      <td>51.000000</td>\n",
       "      <td>8.000000</td>\n",
       "      <td>5.000000</td>\n",
       "      <td>48.000000</td>\n",
       "      <td>2.000000</td>\n",
       "      <td>7.000000</td>\n",
       "      <td>0.000000</td>\n",
       "    </tr>\n",
       "    <tr>\n",
       "      <th>50%</th>\n",
       "      <td>12.000000</td>\n",
       "      <td>161.000000</td>\n",
       "      <td>23.000000</td>\n",
       "      <td>198.000000</td>\n",
       "      <td>17.000000</td>\n",
       "      <td>17.000000</td>\n",
       "      <td>63.000000</td>\n",
       "      <td>3.000000</td>\n",
       "      <td>13.000000</td>\n",
       "      <td>0.000000</td>\n",
       "    </tr>\n",
       "    <tr>\n",
       "      <th>75%</th>\n",
       "      <td>18.000000</td>\n",
       "      <td>337.000000</td>\n",
       "      <td>85.000000</td>\n",
       "      <td>447.000000</td>\n",
       "      <td>23.000000</td>\n",
       "      <td>24.000000</td>\n",
       "      <td>79.000000</td>\n",
       "      <td>4.000000</td>\n",
       "      <td>19.000000</td>\n",
       "      <td>0.000000</td>\n",
       "    </tr>\n",
       "    <tr>\n",
       "      <th>max</th>\n",
       "      <td>23.000000</td>\n",
       "      <td>1639.000000</td>\n",
       "      <td>1037.000000</td>\n",
       "      <td>1988.000000</td>\n",
       "      <td>48.000000</td>\n",
       "      <td>50.000000</td>\n",
       "      <td>100.000000</td>\n",
       "      <td>4.000000</td>\n",
       "      <td>83.000000</td>\n",
       "      <td>1.000000</td>\n",
       "    </tr>\n",
       "  </tbody>\n",
       "</table>\n",
       "</div>"
      ],
      "text/plain": [
       "               hour        member        casual         total          temp  \\\n",
       "count  63240.000000  63240.000000  63240.000000  63240.000000  63240.000000   \n",
       "mean      11.550870    236.276281     66.026739    302.303020     15.480266   \n",
       "std        6.913238    255.359994    102.907403    319.765133      9.810974   \n",
       "min        0.000000      0.000000      0.000000      1.000000    -14.000000   \n",
       "25%        6.000000     43.000000      5.000000     51.000000      8.000000   \n",
       "50%       12.000000    161.000000     23.000000    198.000000     17.000000   \n",
       "75%       18.000000    337.000000     85.000000    447.000000     23.000000   \n",
       "max       23.000000   1639.000000   1037.000000   1988.000000     48.000000   \n",
       "\n",
       "              atemp      humidity       weather     windspeed  public_holiday  \n",
       "count  63240.000000  63240.000000  63240.000000  63240.000000    63240.000000  \n",
       "mean      14.814643     63.078495      2.874605     13.363694        0.035848  \n",
       "std       11.617510     19.449951      0.984836      8.103467        0.185911  \n",
       "min      -24.000000      7.000000      1.000000      0.000000        0.000000  \n",
       "25%        5.000000     48.000000      2.000000      7.000000        0.000000  \n",
       "50%       17.000000     63.000000      3.000000     13.000000        0.000000  \n",
       "75%       24.000000     79.000000      4.000000     19.000000        0.000000  \n",
       "max       50.000000    100.000000      4.000000     83.000000        1.000000  "
      ]
     },
     "execution_count": 8,
     "metadata": {},
     "output_type": "execute_result"
    }
   ],
   "source": [
    "mdf.describe()"
   ]
  },
  {
   "attachments": {},
   "cell_type": "markdown",
   "metadata": {},
   "source": [
    "Descriptive statistics show no evident outliers."
   ]
  },
  {
   "attachments": {},
   "cell_type": "markdown",
   "metadata": {},
   "source": [
    "### 1.3 Feature engineering"
   ]
  },
  {
   "attachments": {},
   "cell_type": "markdown",
   "metadata": {},
   "source": [
    "The attribute `date` can provide useful information that we could use as variables. We will create three new attributes based on date:\n",
    "1. `is_weekend`: indicates whether the day is weekend or not.\n",
    "2. `day_of_week`: numerical representation of the day of the week.\n",
    "3. `season`: Numerical representation of the season based on specific date ranges. Please note that these date ranges are approximate and may not precisely align with astronomical or meteorological definitions of seasons. The seasons are defined as follows:\n",
    "    - **Winter**: The period from December 1st to the last day of February.\n",
    "    - **Spring**: The period from March 1st to the last day of May.\n",
    "    - **Summer**: The period from June 1st to the last day of August.\n",
    "    - **Autumn**: The period from September 1st to the last day of November."
   ]
  },
  {
   "cell_type": "code",
   "execution_count": 9,
   "metadata": {},
   "outputs": [],
   "source": [
    "# Create a column indicating whether the day is a weekday or weekend\n",
    "mdf['is_weekend'] = mdf['date'].dt.dayofweek // 5  # 1 for weekend, 0 for weekday\n",
    "\n",
    "# Create a column for the number of the day in the week (Monday: 0, Sunday: 6)\n",
    "mdf['day_of_week'] = mdf['date'].dt.dayofweek\n",
    "\n",
    "# Create a column for the season number\n",
    "# {1: 'Winter', 2: 'Spring', 3: 'Summer', 4: 'Autumn'}\n",
    "mdf['season'] = (mdf['date'].dt.month % 12 + 3) // 3\n",
    "# mdf['season_name'] = mdf['season'].map({1: 'Winter', 2: 'Spring', 3: 'Summer', 4: 'Autumn'})"
   ]
  },
  {
   "attachments": {},
   "cell_type": "markdown",
   "metadata": {},
   "source": [
    "### 1.4 Train-test split\n",
    "\n",
    "For temporal data like hourly bike demand, it's important to maintain the temporal order while splitting the data into train and test sets. A common approach is to use a time-based split, where you allocate a certain percentage of the data to the training set and the remaining to the test set.\n",
    "\n",
    "Given that your data spans from 2010 to 2017, here's a suggested train-test split you can use as a starting point:\n",
    "- Reserve the earlier years, such as 2010 to 2016, for training (approx 72% of the data).\n",
    "- Allocate the later years, such as 2016 and 2017, for testing (approx 28% of the data).\n",
    "  \n",
    "This split ensures that the training set contains data from the earlier years, allowing the model to learn patterns and trends. The test set, on the other hand, includes data from the later years, which helps evaluate the model's performance on unseen future data."
   ]
  },
  {
   "cell_type": "code",
   "execution_count": 21,
   "metadata": {},
   "outputs": [],
   "source": [
    "# Perform the train-test split\n",
    "train_data = mdf[mdf.date.dt.year < 2016]\n",
    "test_data = mdf[mdf.date.dt.year >= 2016]\n",
    "\n",
    "# Save the train and test sets to CSV files\n",
    "train_data.to_csv(os.path.join(os.pardir,'data', 'processed', 'train.csv'), index=False)\n",
    "test_data.to_csv(os.path.join(os.pardir,'data', 'processed', 'test.csv'), index=False)"
   ]
  },
  {
   "attachments": {},
   "cell_type": "markdown",
   "metadata": {},
   "source": [
    "### 3. Exploratory data analysis (EDA)"
   ]
  },
  {
   "attachments": {},
   "cell_type": "markdown",
   "metadata": {},
   "source": []
  },
  {
   "attachments": {},
   "cell_type": "markdown",
   "metadata": {},
   "source": [
    "### 4. Modelling"
   ]
  },
  {
   "attachments": {},
   "cell_type": "markdown",
   "metadata": {},
   "source": [
    "### 4.3 Temporal model"
   ]
  },
  {
   "attachments": {},
   "cell_type": "markdown",
   "metadata": {},
   "source": []
  }
 ],
 "metadata": {
  "kernelspec": {
   "display_name": "neural",
   "language": "python",
   "name": "python3"
  },
  "language_info": {
   "codemirror_mode": {
    "name": "ipython",
    "version": 3
   },
   "file_extension": ".py",
   "mimetype": "text/x-python",
   "name": "python",
   "nbconvert_exporter": "python",
   "pygments_lexer": "ipython3",
   "version": "3.7.10"
  },
  "orig_nbformat": 4
 },
 "nbformat": 4,
 "nbformat_minor": 2
}
